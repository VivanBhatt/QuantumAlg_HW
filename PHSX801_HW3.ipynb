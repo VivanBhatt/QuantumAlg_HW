{
  "nbformat": 4,
  "nbformat_minor": 0,
  "metadata": {
    "colab": {
      "provenance": [],
      "authorship_tag": "ABX9TyPliSTV5ivkL3wddZ7+wXVA",
      "include_colab_link": true
    },
    "kernelspec": {
      "name": "python3",
      "display_name": "Python 3"
    },
    "language_info": {
      "name": "python"
    }
  },
  "cells": [
    {
      "cell_type": "markdown",
      "metadata": {
        "id": "view-in-github",
        "colab_type": "text"
      },
      "source": [
        "<a href=\"https://colab.research.google.com/github/VivanBhatt/QuantumAlg_HW/blob/main/PHSX801_HW3.ipynb\" target=\"_parent\"><img src=\"https://colab.research.google.com/assets/colab-badge.svg\" alt=\"Open In Colab\"/></a>"
      ]
    },
    {
      "cell_type": "code",
      "source": [
        "pip install pennylane --upgrade"
      ],
      "metadata": {
        "id": "WBMYLuGwIrfn",
        "outputId": "e9b9339e-480a-47e7-e4b7-dae234babec2",
        "colab": {
          "base_uri": "https://localhost:8080/"
        }
      },
      "execution_count": null,
      "outputs": [
        {
          "output_type": "stream",
          "name": "stdout",
          "text": [
            "Requirement already satisfied: pennylane in /usr/local/lib/python3.11/dist-packages (0.40.0)\n",
            "Requirement already satisfied: numpy<2.1 in /usr/local/lib/python3.11/dist-packages (from pennylane) (1.26.4)\n",
            "Requirement already satisfied: scipy in /usr/local/lib/python3.11/dist-packages (from pennylane) (1.13.1)\n",
            "Requirement already satisfied: networkx in /usr/local/lib/python3.11/dist-packages (from pennylane) (3.4.2)\n",
            "Requirement already satisfied: rustworkx>=0.14.0 in /usr/local/lib/python3.11/dist-packages (from pennylane) (0.16.0)\n",
            "Requirement already satisfied: autograd in /usr/local/lib/python3.11/dist-packages (from pennylane) (1.7.0)\n",
            "Requirement already satisfied: tomlkit in /usr/local/lib/python3.11/dist-packages (from pennylane) (0.13.2)\n",
            "Requirement already satisfied: appdirs in /usr/local/lib/python3.11/dist-packages (from pennylane) (1.4.4)\n",
            "Requirement already satisfied: autoray>=0.6.11 in /usr/local/lib/python3.11/dist-packages (from pennylane) (0.7.0)\n",
            "Requirement already satisfied: cachetools in /usr/local/lib/python3.11/dist-packages (from pennylane) (5.5.1)\n",
            "Requirement already satisfied: pennylane-lightning>=0.40 in /usr/local/lib/python3.11/dist-packages (from pennylane) (0.40.0)\n",
            "Requirement already satisfied: requests in /usr/local/lib/python3.11/dist-packages (from pennylane) (2.32.3)\n",
            "Requirement already satisfied: typing-extensions in /usr/local/lib/python3.11/dist-packages (from pennylane) (4.12.2)\n",
            "Requirement already satisfied: packaging in /usr/local/lib/python3.11/dist-packages (from pennylane) (24.2)\n",
            "Requirement already satisfied: diastatic-malt in /usr/local/lib/python3.11/dist-packages (from pennylane) (2.15.2)\n",
            "Requirement already satisfied: scipy-openblas32>=0.3.26 in /usr/local/lib/python3.11/dist-packages (from pennylane-lightning>=0.40->pennylane) (0.3.29.0.0)\n",
            "Requirement already satisfied: astunparse in /usr/local/lib/python3.11/dist-packages (from diastatic-malt->pennylane) (1.6.3)\n",
            "Requirement already satisfied: gast in /usr/local/lib/python3.11/dist-packages (from diastatic-malt->pennylane) (0.6.0)\n",
            "Requirement already satisfied: termcolor in /usr/local/lib/python3.11/dist-packages (from diastatic-malt->pennylane) (2.5.0)\n",
            "Requirement already satisfied: charset-normalizer<4,>=2 in /usr/local/lib/python3.11/dist-packages (from requests->pennylane) (3.4.1)\n",
            "Requirement already satisfied: idna<4,>=2.5 in /usr/local/lib/python3.11/dist-packages (from requests->pennylane) (3.10)\n",
            "Requirement already satisfied: urllib3<3,>=1.21.1 in /usr/local/lib/python3.11/dist-packages (from requests->pennylane) (2.3.0)\n",
            "Requirement already satisfied: certifi>=2017.4.17 in /usr/local/lib/python3.11/dist-packages (from requests->pennylane) (2024.12.14)\n",
            "Requirement already satisfied: wheel<1.0,>=0.23.0 in /usr/local/lib/python3.11/dist-packages (from astunparse->diastatic-malt->pennylane) (0.45.1)\n",
            "Requirement already satisfied: six<2.0,>=1.6.1 in /usr/local/lib/python3.11/dist-packages (from astunparse->diastatic-malt->pennylane) (1.17.0)\n"
          ]
        }
      ]
    },
    {
      "cell_type": "code",
      "source": [
        "import pennylane as qml\n",
        "import numpy as np\n",
        "#import matplotlib.pyplot as plt"
      ],
      "metadata": {
        "id": "4CI9S2xsI5LH"
      },
      "execution_count": null,
      "outputs": []
    },
    {
      "cell_type": "markdown",
      "source": [
        "![image.png](data:image/png;base64,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)"
      ],
      "metadata": {
        "id": "L551eLSqbnWW"
      }
    },
    {
      "cell_type": "markdown",
      "source": [
        "**Q1**"
      ],
      "metadata": {
        "id": "NYDMPhZq29iw"
      }
    },
    {
      "cell_type": "code",
      "source": [
        "dev = qml.device(\"default.qubit\", wires=1)\n",
        "\n",
        "U = np.array([[1, 1], [1, -1]]) / np.sqrt(2)\n",
        "\n",
        "\n",
        "@qml.qnode(dev)\n",
        "def apply_u():\n",
        "\n",
        "    ##################\n",
        "    # YOUR CODE HERE #\n",
        "    ##################\n",
        "\n",
        "    # USE QubitUnitary TO APPLY U TO THE QUBIT\n",
        "    qml.QubitUnitary(U, wires = 0)\n",
        "\n",
        "    # Return the state\n",
        "    return qml.state()"
      ],
      "metadata": {
        "id": "cd7j7cHibkvl"
      },
      "execution_count": null,
      "outputs": []
    },
    {
      "cell_type": "markdown",
      "source": [
        "**Q2**"
      ],
      "metadata": {
        "id": "6POW7DYs3I7j"
      }
    },
    {
      "cell_type": "code",
      "source": [
        "dev = qml.device(\"default.qubit\", wires=1)\n",
        "\n",
        "\n",
        "@qml.qnode(dev)\n",
        "def apply_u_as_rot(phi, theta, omega):\n",
        "\n",
        "    ##################\n",
        "    # YOUR CODE HERE #\n",
        "    ##################\n",
        "\n",
        "    # APPLY A ROT GATE USING THE PROVIDED INPUT PARAMETERS\n",
        "    qml.Rot(phi, theta, omega, wires = 0)\n",
        "\n",
        "    # RETURN THE QUANTUM STATE VECTOR\n",
        "\n",
        "    return qml.state()"
      ],
      "metadata": {
        "id": "tHRtU72jbmEh"
      },
      "execution_count": null,
      "outputs": []
    }
  ]
}